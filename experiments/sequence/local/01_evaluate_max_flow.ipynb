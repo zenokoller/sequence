{
 "cells": [
  {
   "cell_type": "code",
   "execution_count": null,
   "metadata": {},
   "outputs": [],
   "source": [
    "from itertools import product\n",
    "from functools import partial\n",
    "from typing import Callable, NamedTuple, List, Tuple\n",
    "\n",
    "import numpy as np\n",
    "import pandas as pd\n",
    "%matplotlib inline\n",
    "import matplotlib.pyplot as plt\n",
    "\n",
    "from estimator.precision import loss_precision\n",
    "from generator.sequence import generate_random_sequence\n",
    "from synchronizer.max_flow.max_flow import default_max_flow_synchronizer\n",
    "from simulator.ground_truth.predefined import predefined_policies\n",
    "from simulator.policy import policies_str\n",
    "from synchronizer.alignment import Alignment\n",
    "from signal_utils.consume import consume\n",
    "from signal_utils.eval_loop import eval_loop\n",
    "from signal_utils.test_signal import TestSignal\n",
    "from signal_utils.sample import sample_uniform"
   ]
  },
  {
   "cell_type": "markdown",
   "metadata": {},
   "source": [
    "## Test Tooling\n",
    "### Samples for plots\n",
    "\n",
    "Precision equals the number of correctly predicted loss events divided by the total number of predicted loss events."
   ]
  },
  {
   "cell_type": "code",
   "execution_count": null,
   "metadata": {},
   "outputs": [],
   "source": [
    "PrecisionSample = NamedTuple('PrecisionSample', [('precision', float), ('nw_condition', str), ('symbol_bits', str)])\n",
    "\n",
    "def precision_sample_fn(nw_condition: str, symbol_bits: int) -> Callable[[TestSignal, Alignment], PrecisionSample]:\n",
    "    def precision_sample(test_signal: TestSignal, alignment: Alignment) -> PrecisionSample:\n",
    "        _precision = loss_precision(alignment, test_signal.ground_truth)\n",
    "        return PrecisionSample(precision=_precision, nw_condition=nw_condition, symbol_bits=symbol_bits)\n",
    "    return precision_sample"
   ]
  },
  {
   "cell_type": "markdown",
   "metadata": {},
   "source": [
    "### Test Signal Generation"
   ]
  },
  {
   "cell_type": "markdown",
   "metadata": {},
   "source": [
    "Note that we only generate signals that contain at least some events!"
   ]
  },
  {
   "cell_type": "code",
   "execution_count": null,
   "metadata": {},
   "outputs": [],
   "source": [
    "def sample_signal_lengths():\n",
    "    return sample_uniform(10, 30), 50\n",
    "\n",
    "def generate_random_test_signal_fn(nw_condition: str, symbol_bits: int) -> Callable[[], TestSignal]:\n",
    "    return partial(TestSignal.generate,\n",
    "                   generator=generate_random_sequence(symbol_bits),\n",
    "                   policies=predefined_policies[nw_condition],\n",
    "                   sample_signal_lengths=sample_signal_lengths,\n",
    "                   must_contain_events=True)"
   ]
  },
  {
   "cell_type": "markdown",
   "metadata": {},
   "source": [
    "### Synchronizer"
   ]
  },
  {
   "cell_type": "code",
   "execution_count": null,
   "metadata": {},
   "outputs": [],
   "source": [
    "synchronizer = default_max_flow_synchronizer"
   ]
  },
  {
   "cell_type": "markdown",
   "metadata": {},
   "source": [
    "### Collecting Samples"
   ]
  },
  {
   "cell_type": "code",
   "execution_count": null,
   "metadata": {},
   "outputs": [],
   "source": [
    "def collect_samples(nw_condition: str, symbol_bits: int, num_samples: int) -> List[PrecisionSample]:\n",
    "    loop = partial(eval_loop,\n",
    "                   generate_test_signal=generate_random_test_signal_fn(nw_condition, symbol_bits),\n",
    "                   synchronizer=synchronizer,\n",
    "                   postprocess=precision_sample_fn(nw_condition, symbol_bits))\n",
    "    return consume(loop(), length=num_samples)"
   ]
  },
  {
   "cell_type": "markdown",
   "metadata": {},
   "source": [
    "## Running Experiments\n",
    "### Network Parameters\n",
    "We use a predefined set of policies:"
   ]
  },
  {
   "cell_type": "code",
   "execution_count": null,
   "metadata": {
    "keep_output": true,
    "scrolled": true
   },
   "outputs": [
    {
     "name": "stdout",
     "output_type": "stream",
     "text": [
      "normal:\n",
      "     ge_loss(move_to_bad=0.005, move_to_good=0.7, drop_in_bad=0.5, drop_in_good=0.0075)\n",
      " --> ar1_uniform_delay(delay_bounds=(1, 5), prob=0.005)\n",
      " --> ar1_duplication(prob=0.001)\n",
      "\n",
      "medium:\n",
      "     ge_loss(move_to_bad=0.01, move_to_good=0.75, drop_in_bad=0.8, drop_in_good=0.01)\n",
      " --> ar1_uniform_delay(delay_bounds=(1, 5), prob=0.005)\n",
      " --> ar1_duplication(prob=0.002)\n",
      "\n",
      "high:\n",
      "     ge_loss(move_to_bad=0.035, move_to_good=0.75, drop_in_bad=0.8, drop_in_good=0.02)\n",
      " --> ar1_uniform_delay(delay_bounds=(1, 5), prob=0.01)\n",
      " --> ar1_duplication(prob=0.005)\n",
      "\n",
      "severe:\n",
      "     ge_loss(move_to_bad=0.075, move_to_good=0.75, drop_in_bad=0.8, drop_in_good=0.03)\n",
      " --> ar1_uniform_delay(delay_bounds=(1, 5), prob=0.05)\n",
      " --> ar1_duplication(prob=0.01)\n",
      "\n"
     ]
    }
   ],
   "source": [
    "for key, policies in predefined_policies.items():\n",
    "    print(f'{key}:\\n     {policies_str(policies)}\\n')"
   ]
  },
  {
   "cell_type": "markdown",
   "metadata": {},
   "source": [
    "### Variable Parameters"
   ]
  },
  {
   "cell_type": "markdown",
   "metadata": {},
   "source": [
    "Because we only look at signals that actually contain events, it does not make much sense to look at the effect of differing network conditions here. We just assume `medium` condition, which has about 2% loss."
   ]
  },
  {
   "cell_type": "code",
   "execution_count": null,
   "metadata": {},
   "outputs": [],
   "source": [
    "nw_conditions = ['medium']\n",
    "test_symbol_bits = [2, 3, 4, 8]"
   ]
  },
  {
   "cell_type": "markdown",
   "metadata": {},
   "source": [
    "### Runs"
   ]
  },
  {
   "cell_type": "code",
   "execution_count": null,
   "metadata": {},
   "outputs": [],
   "source": [
    "runs = 5000\n",
    "samples = []\n",
    "for nw_condition, symbol_bits in product(nw_conditions, test_symbol_bits):\n",
    "    samples += collect_samples(nw_condition, symbol_bits, runs)\n",
    "\n",
    "samples_df = pd.DataFrame(samples)"
   ]
  },
  {
   "cell_type": "markdown",
   "metadata": {},
   "source": [
    "## Plots\n",
    "\n",
    "### Symbol Bits vs Avg. Accuracy\n",
    "What is the average precision (defined above) depending on symbol_bits and network condition?"
   ]
  },
  {
   "cell_type": "code",
   "execution_count": null,
   "metadata": {
    "keep_output": true
   },
   "outputs": [
    {
     "data": {
      "text/plain": [
       "<matplotlib.axes._subplots.AxesSubplot at 0x10a8628d0>"
      ]
     },
     "execution_count": 1,
     "metadata": {},
     "output_type": "execute_result"
    },
    {
     "data": {
      "image/png": "[encoded data removed]",
      "text/plain": [
       "<matplotlib.figure.Figure at 0x10a862320>"
      ]
     },
     "metadata": {},
     "output_type": "display_data"
    }
   ],
   "source": [
    "agg_df = samples_df[samples_df['precision'] >= 0].groupby(['symbol_bits', 'nw_condition']).agg({\n",
    "    'precision': ['mean']\n",
    "}).unstack(1)\n",
    "agg_df.columns = [col[2] for col in agg_df.columns]\n",
    "agg_df.columns.name = 'NW Condition'\n",
    "agg_df.index.name = 'Symbol Bits'\n",
    "agg_df.plot(marker='o', title='Loss Precision')"
   ]
  }
 ],
 "metadata": {
  "kernelspec": {
   "display_name": "Python 3",
   "language": "python",
   "name": "python3"
  },
  "language_info": {
   "codemirror_mode": {
    "name": "ipython",
    "version": 3
   },
   "file_extension": ".py",
   "mimetype": "text/x-python",
   "name": "python",
   "nbconvert_exporter": "python",
   "pygments_lexer": "ipython3",
   "version": "3.6.4"
  }
 },
 "nbformat": 4,
 "nbformat_minor": 2
}
