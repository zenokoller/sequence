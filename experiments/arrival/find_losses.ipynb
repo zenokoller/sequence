{
 "cells": [
  {
   "cell_type": "code",
   "execution_count": null,
   "metadata": {},
   "outputs": [],
   "source": [
    "import itertools\n",
    "from functools import partial\n",
    "from typing import List, Iterable, Tuple\n",
    "\n",
    "import pandas as pd\n",
    "%matplotlib inline\n",
    "import matplotlib.pyplot as plt\n",
    "from matplotlib.ticker import FuncFormatter\n",
    "\n",
    "from generator.sequence import generate_random_sequence\n",
    "from simulator.loss import ge_loss, ar1_loss\n",
    "from simulator.permutation import generate_permutation, apply_permutation\n",
    "from simulator.simulator import Policy\n",
    "from synchronizer.greedy import find_losses\n",
    "from utils.consume import consume, consume_all"
   ]
  },
  {
   "cell_type": "markdown",
   "metadata": {},
   "source": [
    "`find_losses` tries to recover the loss indices, where an element in the original array was lost using longest subsequence matching."
   ]
  },
  {
   "cell_type": "code",
   "execution_count": null,
   "metadata": {},
   "outputs": [],
   "source": [
    "original = [1, 2, 3, 2, 2, 1, 2]\n",
    "received = [1, 2, 3, 2, 1]\n",
    "find_losses(original, received)"
   ]
  },
  {
   "cell_type": "code",
   "execution_count": null,
   "metadata": {},
   "outputs": [],
   "source": [
    "def run_loss_finder(sequence: Iterable[int],\n",
    "                    length: int,\n",
    "                    policies: List[Policy]):\n",
    "    original = consume(sequence, length=length)\n",
    "    permutation = consume_all(generate_permutation(policies, length))\n",
    "    received = apply_permutation(original, permutation)\n",
    "\n",
    "    expected = find_losses(consume_all(range(length)), permutation)\n",
    "    actual = find_losses(original, received)\n",
    "    return expected, actual"
   ]
  },
  {
   "cell_type": "code",
   "execution_count": null,
   "metadata": {},
   "outputs": [],
   "source": [
    "def test_loss_finder(sequence_lengths: List[int] = None, \n",
    "                    loss_probabilities: List[float] = None,\n",
    "                    chunk_sizes: List[int] = None,\n",
    "                    runs: int = 1) -> pd.DataFrame:\n",
    "\n",
    "    results = []\n",
    "    for _ in range(runs):\n",
    "        for length, chunk_size, prob in itertools.product(sequence_lengths, chunk_sizes, loss_probabilities):\n",
    "            loss_policy = ge_loss_with_prob_goodbad(prob)\n",
    "            sequence = generate_random_sequence(chunk_size)\n",
    "            expected, actual = run_loss_finder(sequence, length, [loss_policy])\n",
    "            posterior_loss_rate = len(expected) / length\n",
    "            distance_error = sum(abs(e - a) for e, a in zip(expected, actual))\n",
    "            results.append((length, chunk_size, posterior_loss_rate, distance_error))\n",
    "    return pd.DataFrame(results, columns=['sequence_length', 'chunk_size', 'loss_rate', 'distance_error'])\n",
    "\n",
    "def ge_loss_with_prob_goodbad(prob: float):\n",
    "    return partial(ge_loss, prob_goodbad=prob, prob_badgood=0.8, prob_loss_good=0.2, prob_transmit_bad=0.25)"
   ]
  },
  {
   "cell_type": "markdown",
   "metadata": {},
   "source": [
    "Given different bits per packet and posterior loss rates, what is the percentage of index sets are predicted correctly by the loss finder?"
   ]
  },
  {
   "cell_type": "code",
   "execution_count": null,
   "metadata": {
    "keep_output": true,
    "scrolled": true
   },
   "outputs": [
    {
     "data": {
      "text/html": [
       "<div>\n",
       "<style scoped>\n",
       "    .dataframe tbody tr th:only-of-type {\n",
       "        vertical-align: middle;\n",
       "    }\n",
       "\n",
       "    .dataframe tbody tr th {\n",
       "        vertical-align: top;\n",
       "    }\n",
       "\n",
       "    .dataframe thead tr th {\n",
       "        text-align: left;\n",
       "    }\n",
       "\n",
       "    .dataframe thead tr:last-of-type th {\n",
       "        text-align: right;\n",
       "    }\n",
       "</style>\n",
       "<table border=\"1\" class=\"dataframe\">\n",
       "  <thead>\n",
       "    <tr>\n",
       "      <th></th>\n",
       "      <th colspan=\"4\" halign=\"left\">correct</th>\n",
       "    </tr>\n",
       "    <tr>\n",
       "      <th></th>\n",
       "      <th colspan=\"4\" halign=\"left\">mean</th>\n",
       "    </tr>\n",
       "    <tr>\n",
       "      <th>loss_bin</th>\n",
       "      <th>2.0-5.0%</th>\n",
       "      <th>5.0-10.0%</th>\n",
       "      <th>10.0-15.0%</th>\n",
       "      <th>15.0-20.0%</th>\n",
       "    </tr>\n",
       "    <tr>\n",
       "      <th>chunk_size</th>\n",
       "      <th></th>\n",
       "      <th></th>\n",
       "      <th></th>\n",
       "      <th></th>\n",
       "    </tr>\n",
       "  </thead>\n",
       "  <tbody>\n",
       "    <tr>\n",
       "      <th>1</th>\n",
       "      <td>45.5%</td>\n",
       "      <td>32.7%</td>\n",
       "      <td>5.7%</td>\n",
       "      <td>6.3%</td>\n",
       "    </tr>\n",
       "    <tr>\n",
       "      <th>2</th>\n",
       "      <td>68.4%</td>\n",
       "      <td>60.4%</td>\n",
       "      <td>30.2%</td>\n",
       "      <td>23.8%</td>\n",
       "    </tr>\n",
       "    <tr>\n",
       "      <th>3</th>\n",
       "      <td>89.7%</td>\n",
       "      <td>77.5%</td>\n",
       "      <td>53.2%</td>\n",
       "      <td>47.0%</td>\n",
       "    </tr>\n",
       "    <tr>\n",
       "      <th>4</th>\n",
       "      <td>93.3%</td>\n",
       "      <td>89.5%</td>\n",
       "      <td>74.1%</td>\n",
       "      <td>68.8%</td>\n",
       "    </tr>\n",
       "  </tbody>\n",
       "</table>\n",
       "</div>"
      ],
      "text/plain": [
       "            correct                                \n",
       "               mean                                \n",
       "loss_bin   2.0-5.0% 5.0-10.0% 10.0-15.0% 15.0-20.0%\n",
       "chunk_size                                         \n",
       "1             45.5%     32.7%       5.7%       6.3%\n",
       "2             68.4%     60.4%      30.2%      23.8%\n",
       "3             89.7%     77.5%      53.2%      47.0%\n",
       "4             93.3%     89.5%      74.1%      68.8%"
      ]
     },
     "execution_count": 1,
     "metadata": {},
     "output_type": "execute_result"
    }
   ],
   "source": [
    "results_df = test_loss_finder(sequence_lengths=[10,20,30,40,50],\n",
    "                              loss_probabilities=[0.0025, 0.005, 0.001, 0.02],\n",
    "                              chunk_sizes=[1,2,3,4],\n",
    "                              runs=250)\n",
    "\n",
    "loss_bins = [0,0.02,0.05,0.1,0.15,0.2]\n",
    "bin_labels = [f'{100*a}-{100*b}%' for a, b in zip(loss_bins[:-1], loss_bins[1:])]\n",
    "results_df['loss_bin'] = pd.cut(results_df['loss_rate'], loss_bins, labels=bin_labels)\n",
    "results_df['correct'] = results_df['distance_error'] == 0\n",
    "\n",
    "pd.options.display.float_format = '{:.1f}%'.format\n",
    "results_df.groupby(['chunk_size', 'loss_bin']).agg({\n",
    "    'correct': ['mean']\n",
    "}).apply(lambda x: 100 * x).unstack(1)"
   ]
  },
  {
   "cell_type": "markdown",
   "metadata": {},
   "source": [
    "What is the mean cumulative distance error for the indices?\n",
    "\n",
    "For example, if `[10,23,35]` are the actual loss indices and `[11,20,35]` was predicted, the cumulative distance error is 3. "
   ]
  },
  {
   "cell_type": "code",
   "execution_count": null,
   "metadata": {
    "keep_output": true,
    "scrolled": true
   },
   "outputs": [
    {
     "data": {
      "text/html": [
       "<div>\n",
       "<style scoped>\n",
       "    .dataframe tbody tr th:only-of-type {\n",
       "        vertical-align: middle;\n",
       "    }\n",
       "\n",
       "    .dataframe tbody tr th {\n",
       "        vertical-align: top;\n",
       "    }\n",
       "\n",
       "    .dataframe thead tr th {\n",
       "        text-align: left;\n",
       "    }\n",
       "\n",
       "    .dataframe thead tr:last-of-type th {\n",
       "        text-align: right;\n",
       "    }\n",
       "</style>\n",
       "<table border=\"1\" class=\"dataframe\">\n",
       "  <thead>\n",
       "    <tr>\n",
       "      <th></th>\n",
       "      <th colspan=\"4\" halign=\"left\">distance_error</th>\n",
       "    </tr>\n",
       "    <tr>\n",
       "      <th></th>\n",
       "      <th colspan=\"4\" halign=\"left\">mean</th>\n",
       "    </tr>\n",
       "    <tr>\n",
       "      <th>loss_bin</th>\n",
       "      <th>2.0-5.0%</th>\n",
       "      <th>5.0-10.0%</th>\n",
       "      <th>10.0-15.0%</th>\n",
       "      <th>15.0-20.0%</th>\n",
       "    </tr>\n",
       "    <tr>\n",
       "      <th>chunk_size</th>\n",
       "      <th></th>\n",
       "      <th></th>\n",
       "      <th></th>\n",
       "      <th></th>\n",
       "    </tr>\n",
       "  </thead>\n",
       "  <tbody>\n",
       "    <tr>\n",
       "      <th>1</th>\n",
       "      <td>1.38</td>\n",
       "      <td>2.90</td>\n",
       "      <td>10.18</td>\n",
       "      <td>16.44</td>\n",
       "    </tr>\n",
       "    <tr>\n",
       "      <th>2</th>\n",
       "      <td>0.45</td>\n",
       "      <td>0.75</td>\n",
       "      <td>2.11</td>\n",
       "      <td>3.94</td>\n",
       "    </tr>\n",
       "    <tr>\n",
       "      <th>3</th>\n",
       "      <td>0.13</td>\n",
       "      <td>0.30</td>\n",
       "      <td>0.79</td>\n",
       "      <td>1.54</td>\n",
       "    </tr>\n",
       "    <tr>\n",
       "      <th>4</th>\n",
       "      <td>0.08</td>\n",
       "      <td>0.13</td>\n",
       "      <td>0.36</td>\n",
       "      <td>0.71</td>\n",
       "    </tr>\n",
       "  </tbody>\n",
       "</table>\n",
       "</div>"
      ],
      "text/plain": [
       "           distance_error                                \n",
       "                     mean                                \n",
       "loss_bin         2.0-5.0% 5.0-10.0% 10.0-15.0% 15.0-20.0%\n",
       "chunk_size                                               \n",
       "1                    1.38      2.90      10.18      16.44\n",
       "2                    0.45      0.75       2.11       3.94\n",
       "3                    0.13      0.30       0.79       1.54\n",
       "4                    0.08      0.13       0.36       0.71"
      ]
     },
     "execution_count": 1,
     "metadata": {},
     "output_type": "execute_result"
    }
   ],
   "source": [
    "pd.options.display.float_format = '{:.2f}'.format\n",
    "results_df.groupby(['chunk_size', 'loss_bin']).agg({\n",
    "    'distance_error': ['mean']\n",
    "}).unstack(1)"
   ]
  },
  {
   "cell_type": "markdown",
   "metadata": {},
   "source": [
    "## TODO\n",
    "\n",
    "- Refine approach\n",
    "    - Split synchronizer and estimator\n",
    "    - Incorporate reordering\n",
    "    - Estimate error resp. detect if not synchronized\n",
    "- Define envelope where it would be nice to work\n",
    "- Run tests for that envelope\n",
    "- Plot Loss vs. accuracy"
   ]
  }
 ],
 "metadata": {
  "kernelspec": {
   "display_name": "Python 3",
   "language": "python",
   "name": "python3"
  },
  "language_info": {
   "codemirror_mode": {
    "name": "ipython",
    "version": 3
   },
   "file_extension": ".py",
   "mimetype": "text/x-python",
   "name": "python",
   "nbconvert_exporter": "python",
   "pygments_lexer": "ipython3",
   "version": "3.6.4"
  }
 },
 "nbformat": 4,
 "nbformat_minor": 2
}
