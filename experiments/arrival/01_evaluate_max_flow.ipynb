{
 "cells": [
  {
   "cell_type": "code",
   "execution_count": null,
   "metadata": {},
   "outputs": [],
   "source": [
    "from itertools import product\n",
    "from functools import partial\n",
    "from typing import Callable, NamedTuple, List, Tuple\n",
    "\n",
    "import numpy as np\n",
    "import pandas as pd\n",
    "%matplotlib inline\n",
    "import matplotlib.pyplot as plt\n",
    "\n",
    "from estimator.precision import precision\n",
    "from generator.sequence import generate_random_sequence\n",
    "from synchronizer.max_flow.max_flow import default_max_flow_synchronizer\n",
    "from simulator.ground_truth.predefined import predefined_policies\n",
    "from simulator.policy import policies_str\n",
    "from synchronizer.alignment import Alignment\n",
    "from utils.consume import consume\n",
    "from utils.eval_loop import eval_loop\n",
    "from utils.test_signal import TestSignal\n",
    "from utils.sample import sample_uniform"
   ]
  },
  {
   "cell_type": "markdown",
   "metadata": {},
   "source": [
    "## Test Tooling\n",
    "### Samples for plots"
   ]
  },
  {
   "cell_type": "code",
   "execution_count": null,
   "metadata": {},
   "outputs": [],
   "source": [
    "PrecisionSample = NamedTuple('PrecisionSample', [('precision', float), ('nw_condition', str), ('symbol_bits', str)])\n",
    "\n",
    "def precision_sample_fn(nw_condition: str, symbol_bits: int) -> Callable[[TestSignal, Alignment], PrecisionSample]:\n",
    "    def precision_sample(test_signal: TestSignal, alignment: Alignment) -> PrecisionSample:\n",
    "        _precision = precision(alignment, test_signal.ground_truth)\n",
    "        return PrecisionSample(precision=_precision, nw_condition=nw_condition, symbol_bits=symbol_bits)\n",
    "    return precision_sample"
   ]
  },
  {
   "cell_type": "markdown",
   "metadata": {},
   "source": [
    "### Test Signal Generation"
   ]
  },
  {
   "cell_type": "code",
   "execution_count": null,
   "metadata": {},
   "outputs": [],
   "source": [
    "def sample_signal_lengths():\n",
    "    return sample_uniform(10, 30), 50\n",
    "\n",
    "def generate_random_test_signal_fn(nw_condition: str, symbol_bits: int) -> Callable[[], TestSignal]:\n",
    "    return partial(TestSignal.generate,\n",
    "                   generator=generate_random_sequence(symbol_bits),\n",
    "                   policies=predefined_policies[nw_condition],\n",
    "                   sample_signal_lengths=sample_signal_lengths)"
   ]
  },
  {
   "cell_type": "markdown",
   "metadata": {},
   "source": [
    "### Synchronizer"
   ]
  },
  {
   "cell_type": "code",
   "execution_count": null,
   "metadata": {},
   "outputs": [],
   "source": [
    "synchronizer = default_max_flow_synchronizer"
   ]
  },
  {
   "cell_type": "markdown",
   "metadata": {},
   "source": [
    "### Collecting Samples"
   ]
  },
  {
   "cell_type": "code",
   "execution_count": null,
   "metadata": {},
   "outputs": [],
   "source": [
    "def collect_samples(nw_condition: str, symbol_bits: int, num_samples: int) -> List[PrecisionSample]:\n",
    "    loop = partial(eval_loop,\n",
    "                   generate_test_signal=generate_random_test_signal_fn(nw_condition, symbol_bits),\n",
    "                   synchronizer=synchronizer,\n",
    "                   postprocess=precision_sample_fn(nw_condition, symbol_bits))\n",
    "    return consume(loop(), length=num_samples)"
   ]
  },
  {
   "cell_type": "markdown",
   "metadata": {},
   "source": [
    "## Running Experiments\n",
    "### Network Parameters\n",
    "We use a predefined set of policies:"
   ]
  },
  {
   "cell_type": "code",
   "execution_count": null,
   "metadata": {
    "scrolled": false
   },
   "outputs": [],
   "source": [
    "for key, policies in predefined_policies.items():\n",
    "    print(f'{key}:\\n     {policies_str(policies)}\\n')"
   ]
  },
  {
   "cell_type": "markdown",
   "metadata": {},
   "source": [
    "### Variable Parameters"
   ]
  },
  {
   "cell_type": "code",
   "execution_count": null,
   "metadata": {},
   "outputs": [],
   "source": [
    "nw_conditions = ['normal']\n",
    "test_symbol_bits = [2, 3, 4, 5, 6]"
   ]
  },
  {
   "cell_type": "markdown",
   "metadata": {},
   "source": [
    "### Runs"
   ]
  },
  {
   "cell_type": "code",
   "execution_count": null,
   "metadata": {},
   "outputs": [],
   "source": [
    "runs = 5000\n",
    "samples = []\n",
    "for nw_condition, symbol_bits in product(nw_conditions, test_symbol_bits):\n",
    "    samples += collect_samples(nw_condition, symbol_bits, runs)\n",
    "\n",
    "samples_df = pd.DataFrame(samples)"
   ]
  },
  {
   "cell_type": "markdown",
   "metadata": {},
   "source": [
    "How many of the runs had no events at all?"
   ]
  },
  {
   "cell_type": "code",
   "execution_count": null,
   "metadata": {},
   "outputs": [],
   "source": [
    "'{:.01f}%'.format(100 * samples_df[\"precision\"].value_counts()[-1] / (len(samples_df)))"
   ]
  },
  {
   "cell_type": "markdown",
   "metadata": {},
   "source": [
    "## Plots\n",
    "\n",
    "### Symbol Bits vs Avg. Accuracy\n",
    "What is the average precision depending on symbol_bits and network condition?"
   ]
  },
  {
   "cell_type": "code",
   "execution_count": null,
   "metadata": {},
   "outputs": [],
   "source": [
    "agg_df = samples_df[samples_df['precision'] >= 0].groupby(['symbol_bits', 'nw_condition']).agg({\n",
    "    'precision': ['mean']\n",
    "}).unstack(1)\n",
    "agg_df.columns = [col[2] for col in agg_df.columns]\n",
    "agg_df.columns.name = 'NW Condition'\n",
    "agg_df.index.name = 'Symbol Bits'\n",
    "agg_df.plot()"
   ]
  },
  {
   "cell_type": "code",
   "execution_count": null,
   "metadata": {},
   "outputs": [],
   "source": [
    "agg_df"
   ]
  },
  {
   "cell_type": "code",
   "execution_count": null,
   "metadata": {},
   "outputs": [],
   "source": [
    "# TODO: Only consider one NW condition for plot"
   ]
  },
  {
   "cell_type": "code",
   "execution_count": null,
   "metadata": {},
   "outputs": [],
   "source": []
  }
 ],
 "metadata": {
  "kernelspec": {
   "display_name": "Python 3",
   "language": "python",
   "name": "python3"
  },
  "language_info": {
   "codemirror_mode": {
    "name": "ipython",
    "version": 3
   },
   "file_extension": ".py",
   "mimetype": "text/x-python",
   "name": "python",
   "nbconvert_exporter": "python",
   "pygments_lexer": "ipython3",
   "version": "3.6.4"
  }
 },
 "nbformat": 4,
 "nbformat_minor": 2
}
