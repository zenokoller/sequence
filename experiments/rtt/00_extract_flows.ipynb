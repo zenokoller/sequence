{
 "cells": [
  {
   "cell_type": "markdown",
   "metadata": {},
   "source": [
    "We want to find out whether probabilistically adding a measurement header to some of the packets is able to perform more efficiently than using a single bit.\n",
    "\n",
    "In this notebook, we extract TCP flows of a trace and store it as hdf5 for later processing using `libtrace` and `pandas`. \n",
    "\n",
    "##### Getting trace for testing\n",
    "1. Download a trace from [MAWI Traffic Archive](http://mawi.wide.ad.jp/mawi/) \n",
    "2. Trucate to a workable time duration (e.g. 1 minute) with [tracesplit](https://github.com/LibtraceTeam/libtrace/wiki/tracesplit): `tracesplit -i 10 -m 1 inputuri outputuri`"
   ]
  },
  {
   "cell_type": "code",
   "execution_count": null,
   "metadata": {},
   "outputs": [],
   "source": [
    "TRACE_PATH = '/tmp/short_trace.pcap'\n",
    "STORE_PATH = '/tmp/short_trace.hdf5'"
   ]
  },
  {
   "cell_type": "code",
   "execution_count": null,
   "metadata": {},
   "outputs": [],
   "source": [
    "import pandas as pd\n",
    "%matplotlib inline\n",
    "import matplotlib.pyplot as plt\n",
    "import plt as libtrace\n",
    "\n",
    "from typing import Tuple\n",
    "\n",
    "from utils.managed_trace import managed_trace\n",
    "from utils.tcp_packet import try_read_tcp_packet, TCPPacket"
   ]
  },
  {
   "cell_type": "markdown",
   "metadata": {},
   "source": [
    "We read from the trace, filtering TCP packets, and store the relevant fields of the packets in a list of namedtuples."
   ]
  },
  {
   "cell_type": "code",
   "execution_count": null,
   "metadata": {
    "keep_output": true,
    "scrolled": false
   },
   "outputs": [
    {
     "name": "stdout",
     "output_type": "stream",
     "text": [
      "Could not read 0.02% of packets\n"
     ]
    }
   ],
   "source": [
    "filter_ = libtrace.filter('tcp')\n",
    "with managed_trace(TRACE_PATH) as trace:\n",
    "    trace.conf_filter(filter_)\n",
    "    tcp_packets_with_nones = [try_read_tcp_packet(packet) for packet in trace]\n",
    "tcp_packets = [p for p in tcp_packets_with_nones if p is not None]\n",
    "nones_percentage = (len(tcp_packets_with_nones) - len(tcp_packets)) / len(tcp_packets_with_nones) * 100\n",
    "print('Could not read {:.2f}% of packets'.format(nones_percentage))\n",
    "tcp_df = pd.DataFrame.from_records(tcp_packets, columns=TCPPacket._fields)"
   ]
  },
  {
   "cell_type": "markdown",
   "metadata": {},
   "source": [
    "Now we have a `dataframe` with the following columns:"
   ]
  },
  {
   "cell_type": "code",
   "execution_count": null,
   "metadata": {
    "keep_output": true,
    "scrolled": false
   },
   "outputs": [
    {
     "data": {
      "text/plain": [
       "['timestamp',\n",
       " 'flow_hash',\n",
       " 'direction',\n",
       " 'seq_nr',\n",
       " 'ack_nr',\n",
       " 'flags',\n",
       " 'ts_val',\n",
       " 'ts_ecr',\n",
       " 'payload_length']"
      ]
     },
     "execution_count": 1,
     "metadata": {},
     "output_type": "execute_result"
    }
   ],
   "source": [
    "list(tcp_df)"
   ]
  },
  {
   "cell_type": "markdown",
   "metadata": {},
   "source": [
    "Most of the flows are very short:"
   ]
  },
  {
   "cell_type": "code",
   "execution_count": null,
   "metadata": {
    "keep_output": true
   },
   "outputs": [
    {
     "data": {
      "text/plain": [
       "1.0"
      ]
     },
     "execution_count": 1,
     "metadata": {},
     "output_type": "execute_result"
    }
   ],
   "source": [
    "tcp_df['flow_hash'].value_counts().quantile(0.75)"
   ]
  },
  {
   "cell_type": "markdown",
   "metadata": {},
   "source": [
    "So, we remove all the flows that are shorter than 3."
   ]
  },
  {
   "cell_type": "code",
   "execution_count": null,
   "metadata": {
    "keep_output": true
   },
   "outputs": [
    {
     "data": {
      "text/plain": [
       "15.0"
      ]
     },
     "execution_count": 1,
     "metadata": {},
     "output_type": "execute_result"
    }
   ],
   "source": [
    "flow_lengths = tcp_df['flow_hash'].value_counts()\n",
    "flows_to_keep = set(flow_lengths[flow_lengths >= 3].index.values)\n",
    "indices_to_keep = tcp_df.index[tcp_df['flow_hash'].apply(lambda h: h in flows_to_keep)].tolist()\n",
    "tcp_df = tcp_df.take(list(indices_to_keep))\n",
    "tcp_df['flow_hash'].value_counts().quantile(0.75)"
   ]
  },
  {
   "cell_type": "code",
   "execution_count": null,
   "metadata": {},
   "outputs": [],
   "source": [
    "with pd.HDFStore(STORE_PATH) as store:\n",
    "    store['tcp_df'] = tcp_df"
   ]
  },
  {
   "cell_type": "markdown",
   "metadata": {},
   "source": [
    "## Stats"
   ]
  },
  {
   "cell_type": "code",
   "execution_count": null,
   "metadata": {
    "keep_output": true
   },
   "outputs": [
    {
     "name": "stdout",
     "output_type": "stream",
     "text": [
      "Number of packets: 644479\n",
      "Number of flows: 5661\n"
     ]
    }
   ],
   "source": [
    "packet_counts = tcp_df['flow_hash'].value_counts()\n",
    "print(f'Number of packets: {len(tcp_df)}')\n",
    "print(f'Number of flows: {len(packet_counts)}')"
   ]
  },
  {
   "cell_type": "markdown",
   "metadata": {},
   "source": [
    "Most of the flows are very short, but the tail is heavy:"
   ]
  },
  {
   "cell_type": "code",
   "execution_count": null,
   "metadata": {
    "keep_output": true,
    "scrolled": true
   },
   "outputs": [
    {
     "data": {
      "text/plain": [
       "count     5661.000000\n",
       "mean       113.845434\n",
       "std       1534.946307\n",
       "min          3.000000\n",
       "25%          4.000000\n",
       "50%          8.000000\n",
       "75%         15.000000\n",
       "max      80574.000000\n",
       "Name: flow_hash, dtype: float64"
      ]
     },
     "execution_count": 1,
     "metadata": {},
     "output_type": "execute_result"
    }
   ],
   "source": [
    "packet_counts.describe()"
   ]
  },
  {
   "cell_type": "markdown",
   "metadata": {},
   "source": [
    "50% of the flows longer than 3 packets have at most 8 packets. For these flows, a probabilistically added header would need to be 8 bits long to be _as_ efficient as the square wave, assuming both methods are similarly accurate.\n",
    "\n",
    "This is the distribution of flow lenghts, considering only flows between 3 and 100 packets:"
   ]
  },
  {
   "cell_type": "code",
   "execution_count": null,
   "metadata": {
    "keep_output": true,
    "scrolled": true
   },
   "outputs": [
    {
     "data": {
      "image/png": "[encoded data removed]",
      "text/plain": [
       "<matplotlib.figure.Figure at 0x12843f160>"
      ]
     },
     "metadata": {},
     "output_type": "display_data"
    }
   ],
   "source": [
    "# TODO: Clip might not be what we want\n",
    "ax = packet_counts.clip(0, 100).hist(bins=40)"
   ]
  },
  {
   "cell_type": "markdown",
   "metadata": {},
   "source": [
    "Let's consider the payload lengths: They have been set to zero in the MAWI traces. If this were not the case, we could discriminate between zero and nonzero payloads and only consider `TSval`s from nonzero payloads, which would prevent getting RTTs that correspond to breaks in communication."
   ]
  },
  {
   "cell_type": "code",
   "execution_count": null,
   "metadata": {},
   "outputs": [],
   "source": [
    "tcp_df['payload_length'].value_counts()"
   ]
  }
 ],
 "metadata": {
  "kernelspec": {
   "display_name": "Python 3",
   "language": "python",
   "name": "python3"
  },
  "language_info": {
   "codemirror_mode": {
    "name": "ipython",
    "version": 3
   },
   "file_extension": ".py",
   "mimetype": "text/x-python",
   "name": "python",
   "nbconvert_exporter": "python",
   "pygments_lexer": "ipython3",
   "version": "3.6.4"
  }
 },
 "nbformat": 4,
 "nbformat_minor": 2
}
