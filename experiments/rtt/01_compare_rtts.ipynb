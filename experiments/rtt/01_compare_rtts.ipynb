{
 "cells": [
  {
   "cell_type": "markdown",
   "metadata": {},
   "source": [
    "We compare the following two methods of getting RTT samples:\n",
    "\n",
    "1. RTTs from TCP timestamps using the method described in \"[New Methods for Passive Estimation of TCP Round-Trip Times](http://cobweb.cs.uga.edu/~kangli/src/pam05.pdf)\"\n",
    "2. RTTs from square waves as described in the [Proposal for adding a Spin Bit to QUIC](https://britram.github.io/draft-trammell-quic-spin/draft-trammell-quic-spin.html)\n",
    "\n",
    "In particular, we want to find out how using method (1) in a probabilistic fashion fares against method (2) (where a single bit is added to every packet) in terms of accuracy.\n",
    "\n",
    "We use the minimum value from method (1) as ground truth and compare to the minimum values of the other methods."
   ]
  },
  {
   "cell_type": "code",
   "execution_count": null,
   "metadata": {},
   "outputs": [],
   "source": [
    "STORE_PATH = '/tmp/short_trace.hdf5' # Path to datapoints from `00_extract_flows.ipynb`"
   ]
  },
  {
   "cell_type": "code",
   "execution_count": null,
   "metadata": {},
   "outputs": [],
   "source": [
    "import pandas as pd\n",
    "import numpy as np\n",
    "%matplotlib inline\n",
    "import matplotlib.pyplot as plt\n",
    "import matplotlib.patches as mpatches\n",
    "from collections import namedtuple\n",
    "from typing import Tuple, Callable, NamedTuple, Iterable, List\n",
    "from itertools import chain\n",
    "from functools import reduce, partial\n",
    "\n",
    "import sys\n",
    "sys.path.append('..')\n",
    "from rtt import rtts_from_timestamps, rtts_from_square_wave"
   ]
  },
  {
   "cell_type": "code",
   "execution_count": null,
   "metadata": {},
   "outputs": [],
   "source": [
    "with pd.HDFStore(STORE_PATH) as store:\n",
    "    tcp_df = store['tcp_df']"
   ]
  },
  {
   "cell_type": "markdown",
   "metadata": {},
   "source": [
    "## Compute"
   ]
  },
  {
   "cell_type": "code",
   "execution_count": null,
   "metadata": {},
   "outputs": [],
   "source": [
    "# Group by flows and compute RTTs\n",
    "def compute_rtts(rtt_fn: Callable[[Tuple[str, pd.DataFrame]], pd.DataFrame]) -> pd.DataFrame:\n",
    "    rtt_df = pd.DataFrame()\n",
    "    for flow in tcp_df.groupby('flow_hash'):\n",
    "        rtt_df = pd.concat([rtt_df, rtt_fn(flow)])\n",
    "    return rtt_df\n",
    "\n",
    "tcp_df.set_index(['flow_hash', 'timestamp'])\n",
    "timestamp_df = compute_rtts(rtts_from_timestamps)\n",
    "squarewave_df = compute_rtts(rtts_from_square_wave)"
   ]
  },
  {
   "cell_type": "markdown",
   "metadata": {},
   "source": [
    "## Evaluate\n",
    "\n",
    "### Convert timedeltas to microseconds"
   ]
  },
  {
   "cell_type": "code",
   "execution_count": null,
   "metadata": {},
   "outputs": [],
   "source": [
    "def convert_rtts_to_microseconds(rtt_df: pd.DataFrame) -> pd.DataFrame:\n",
    "    rtt_df['rtt'] = rtt_df['rtt'] / np.timedelta64(1, 'us')\n",
    "\n",
    "convert_rtts_to_microseconds(timestamp_df)\n",
    "convert_rtts_to_microseconds(squarewave_df)"
   ]
  },
  {
   "cell_type": "markdown",
   "metadata": {},
   "source": [
    "### Sample timestamp RTTs"
   ]
  },
  {
   "cell_type": "code",
   "execution_count": null,
   "metadata": {},
   "outputs": [],
   "source": [
    "class Metric(NamedTuple):\n",
    "    df: pd.DataFrame\n",
    "    name: str\n",
    "    bits_per_packet: float\n",
    "    sample_rate: float = 1.0\n",
    "        \n",
    "def sample_metric(metric: Metric, sample_rate: float) -> Metric:\n",
    "    \"\"\"Subsamples the metric's `df` with `sample_rate` and recomputes `bits_per_packet`.\"\"\"\n",
    "    assert metric.sample_rate == 1.0, 'Metric has been sampled before!'\n",
    "    sampled_df = metric.df.sample(frac=sample_rate)\n",
    "    bits_per_packet= len(sampled_df) * metric.bits_per_packet / len(metric.df)\n",
    "    return Metric(df=sampled_df,\n",
    "                     name=metric.name, \n",
    "                     sample_rate=sample_rate, \n",
    "                     bits_per_packet=bits_per_packet)\n",
    "\n",
    "TIMESTAMP_HEADER_SIZE = 64.0  # bits\n",
    "timestamp_metric = Metric(df=timestamp_df, name='Timestamp', bits_per_packet=TIMESTAMP_HEADER_SIZE)\n",
    "squarewave_metric = Metric(df=squarewave_df, name='Square Wave', bits_per_packet=1.0, )\n",
    "\n",
    "SAMPLE_RATES = [0.5,0.25]\n",
    "sampled_metrics = [sample_metric(timestamp_metric, rate) for rate in SAMPLE_RATES]"
   ]
  },
  {
   "cell_type": "markdown",
   "metadata": {},
   "source": [
    "### Aggregate RTTs for each flow"
   ]
  },
  {
   "cell_type": "code",
   "execution_count": null,
   "metadata": {
    "scrolled": false
   },
   "outputs": [],
   "source": [
    "def aggregate_metric(metric: Metric) -> Metric:\n",
    "    return metric._replace(df=metric.df.groupby('flow_hash').agg({\n",
    "           'rtt': ['min', 'mean', 'std', 'count']\n",
    "    }))\n",
    "\n",
    "agg_timestamp_metric = aggregate_metric(timestamp_metric)\n",
    "agg_squarewave_metric = aggregate_metric(squarewave_metric)\n",
    "agg_sampled_metrics = [aggregate_metric(m) for m in sampled_metrics]"
   ]
  },
  {
   "cell_type": "code",
   "execution_count": null,
   "metadata": {
    "keep_output": true,
    "scrolled": true
   },
   "outputs": [
    {
     "data": {
      "image/png": "[encoded data removed]",
      "text/plain": [
       "<matplotlib.figure.Figure at 0x10f754710>"
      ]
     },
     "metadata": {},
     "output_type": "display_data"
    }
   ],
   "source": [
    "def relative_errors(values: pd.Series, ground_truth: pd.Series) -> pd.Series:\n",
    "    return (values - ground_truth) / ground_truth\n",
    "\n",
    "def absolute_errors(values: pd.Series, ground_truth: pd.Series) -> pd.Series:\n",
    "    return values - ground_truth\n",
    "\n",
    "def ecdf(series: pd.Series) -> pd.Series:\n",
    "    series = series.sort_values()\n",
    "    cdf = np.linspace(0.,1.,len(series))\n",
    "    return pd.Series(cdf, index=series)\n",
    "\n",
    "Line = namedtuple('Line', ['style', 'color'])\n",
    "def plot_error_ecdf(metrics: Iterable[Metric] = None, \n",
    "                    ground_truth: Metric = None, \n",
    "                    get_errors: Callable[[pd.Series,pd.Series], pd.Series] = None,\n",
    "                    metric_to_series: Callable[[Metric], pd.Series] = None,\n",
    "                    title: str = '',\n",
    "                    xlabel: str = '',\n",
    "                    lines: Iterable[Line] = None,\n",
    "                    xlim: List[int] = None):\n",
    "    plt.figure(figsize=(4,4))\n",
    "    lines = lines or [Line(style='solid', color='#1f77b4') for _ in metrics]\n",
    "    for metric, line in zip(metrics, lines):\n",
    "        errors = relative_errors(metric_to_series(metric), metric_to_series(ground_truth))\n",
    "        label = f'{metric.name}, {int(metric.bits_per_packet)} b/p'\n",
    "        plt.plot(ecdf(errors), label=label, linestyle=line.style, color=line.color)\n",
    "    plt.ylabel('ECDF')\n",
    "    plt.xlabel(xlabel)\n",
    "    plt.xlim(xlim)\n",
    "    plt.title(title)\n",
    "    plt.legend()\n",
    "    \n",
    "plot_rel_error_ecdf = partial(plot_error_ecdf, get_errors=relative_errors, xlabel='Relative error')\n",
    "plot_abs_error_ecdf = partial(plot_error_ecdf, get_errors=relative_errors, xlabel='Absolute error')\n",
    "\n",
    "plot_rel_error_ecdf(metrics=[agg_squarewave_metric, *agg_sampled_metrics],\n",
    "                    ground_truth=agg_timestamp_metric,\n",
    "                    metric_to_series=lambda m: m.df[('rtt', 'min')],\n",
    "                    title='Min RTT of Metric vs. Timestamp RTTs on Every Packet',\n",
    "                    lines=[Line('solid', '#d62728'), Line('--', '#1f77b4'), Line(':', '#1f77b4')],\n",
    "                    xlim=[0, 1])"
   ]
  },
  {
   "cell_type": "markdown",
   "metadata": {},
   "source": [
    "Only considering single flows, probabilistically adding a header to half of the values yields similar results as the square wave, but it requires 32 bits per packet: About 75% of the values have a relative error of less than 20% compared to \"ground truth\". When adding timestamps to every fourth packet, only 50% of the values would have a relative error lower than 20%."
   ]
  },
  {
   "cell_type": "code",
   "execution_count": null,
   "metadata": {
    "keep_output": true,
    "scrolled": true
   },
   "outputs": [
    {
     "data": {
      "image/png": "[encoded data removed]",
      "text/plain": [
       "<matplotlib.figure.Figure at 0x1081bd7b8>"
      ]
     },
     "metadata": {},
     "output_type": "display_data"
    }
   ],
   "source": [
    "plot_rel_error_ecdf(metrics=[agg_squarewave_metric, *agg_sampled_metrics],\n",
    "                    ground_truth=agg_timestamp_metric,\n",
    "                    metric_to_series=lambda m: m.df[('rtt', 'mean')],\n",
    "                    title='Avg RTT of Metric vs. Timestamp RTTs on Every Packet',\n",
    "                    lines=[Line('solid', '#d62728'), Line('--', '#1f77b4'), Line(':', '#1f77b4')],\n",
    "                    xlim=[0, 1])"
   ]
  },
  {
   "cell_type": "markdown",
   "metadata": {},
   "source": [
    "If we use the mean as the aggregation function, we see that the square wave is less accurate than 32 b/p timestamp, because in some cases my implementation overestimates the actual RTT. We could prevent this by only considering packets that have nonzero payloads."
   ]
  },
  {
   "cell_type": "code",
   "execution_count": null,
   "metadata": {},
   "outputs": [],
   "source": []
  }
 ],
 "metadata": {
  "kernelspec": {
   "display_name": "Python 3",
   "language": "python",
   "name": "python3"
  },
  "language_info": {
   "codemirror_mode": {
    "name": "ipython",
    "version": 3
   },
   "file_extension": ".py",
   "mimetype": "text/x-python",
   "name": "python",
   "nbconvert_exporter": "python",
   "pygments_lexer": "ipython3",
   "version": "3.6.4"
  }
 },
 "nbformat": 4,
 "nbformat_minor": 2
}
