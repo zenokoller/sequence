{
 "cells": [
  {
   "cell_type": "markdown",
   "metadata": {},
   "source": [
    "Compares the following two methods of getting RTT samples:\n",
    "\n",
    "1. RTTs from TCP timestamps using the method described in \"[New Methods for Passive Estimation of TCP Round-Trip Times](http://cobweb.cs.uga.edu/~kangli/src/pam05.pdf)\"\n",
    "2. RTTs from square waves as described in the [Proposal for adding a Spin Bit to QUIC](https://britram.github.io/draft-trammell-quic-spin/draft-trammell-quic-spin.html)"
   ]
  },
  {
   "cell_type": "code",
   "execution_count": null,
   "metadata": {},
   "outputs": [],
   "source": [
    "STORE_PATH = '/tmp/short_trace.hdf5' # Path to datapoints from `00_extract_flows.ipynb`"
   ]
  },
  {
   "cell_type": "code",
   "execution_count": null,
   "metadata": {},
   "outputs": [],
   "source": [
    "import pandas as pd\n",
    "import numpy as np\n",
    "%matplotlib inline\n",
    "import matplotlib.pyplot as plt\n",
    "import matplotlib.patches as mpatches\n",
    "from collections import namedtuple\n",
    "from typing import Tuple, Callable, NamedTuple, Iterable\n",
    "from itertools import chain\n",
    "from functools import reduce\n",
    "\n",
    "import sys\n",
    "sys.path.append('..')\n",
    "from rtt import rtts_from_timestamps, rtts_from_square_wave, Flow"
   ]
  },
  {
   "cell_type": "code",
   "execution_count": null,
   "metadata": {},
   "outputs": [],
   "source": [
    "with pd.HDFStore(STORE_PATH) as store:\n",
    "    tcp_df = store['tcp_df']"
   ]
  },
  {
   "cell_type": "markdown",
   "metadata": {},
   "source": [
    "## Compute"
   ]
  },
  {
   "cell_type": "code",
   "execution_count": null,
   "metadata": {},
   "outputs": [],
   "source": [
    "# Group by flows and compute RTTs\n",
    "def compute_rtts(rtt_fn: Callable[[Tuple[str, pd.DataFrame]], pd.DataFrame]) -> pd.DataFrame:\n",
    "    rtt_df = pd.DataFrame()\n",
    "    for flow in tcp_df.groupby('flow_hash'):\n",
    "        rtt_df = pd.concat([rtt_df, rtt_fn(flow)])\n",
    "    return rtt_df\n",
    "\n",
    "tcp_df.set_index(['flow_hash', 'timestamp'])\n",
    "timestamp_df = compute_rtts(rtts_from_timestamps)\n",
    "squarewave_df = compute_rtts(rtts_from_square_wave)"
   ]
  },
  {
   "cell_type": "markdown",
   "metadata": {},
   "source": [
    "## Evaluate\n",
    "\n",
    "### Convert timedeltas to microseconds"
   ]
  },
  {
   "cell_type": "code",
   "execution_count": null,
   "metadata": {},
   "outputs": [],
   "source": [
    "# convert the timedeltas to microsecond ints\n",
    "def convert_rtts_to_microseconds(rtt_df: pd.DataFrame) -> pd.DataFrame:\n",
    "    rtt_df['rtt'] = rtt_df['rtt'] / np.timedelta64(1, 'us')\n",
    "\n",
    "convert_rtts_to_microseconds(timestamp_df)\n",
    "convert_rtts_to_microseconds(squarewave_df)"
   ]
  },
  {
   "cell_type": "markdown",
   "metadata": {},
   "source": [
    "### Sample timestamp RTTs"
   ]
  },
  {
   "cell_type": "code",
   "execution_count": null,
   "metadata": {},
   "outputs": [],
   "source": [
    "class Metric(NamedTuple):\n",
    "    df: pd.DataFrame\n",
    "    name: str\n",
    "    bits_per_packet: float\n",
    "    sample_rate: float = 1.0\n",
    "        \n",
    "def sample_metric(metric: Metric, sample_rate: float) -> Metric:\n",
    "    \"\"\"Subsamples the metric's `df` with `sample_rate` and recomputes `bits_per_packet`.\"\"\"\n",
    "    assert metric.sample_rate == 1.0, 'Metric has been sampled before!'\n",
    "    sampled_df = metric.df.sample(frac=sample_rate)\n",
    "    bits_per_packet= len(sampled_df) * metric.bits_per_packet / len(metric.df)\n",
    "    return Metric(df=sampled_df,\n",
    "                     name=metric.name, \n",
    "                     sample_rate=sample_rate, \n",
    "                     bits_per_packet=bits_per_packet)\n",
    "\n",
    "TIMESTAMP_HEADER_SIZE = 64.0  # bits\n",
    "timestamp_metric = Metric(df=timestamp_df, name='Timestamp', bits_per_packet=TIMESTAMP_HEADER_SIZE)\n",
    "squarewave_metric = Metric(df=sw_rtt_df, name='Squarewave', bits_per_packet=1.0, )\n",
    "\n",
    "SAMPLE_RATES = [0.25,0.5]\n",
    "sampled_metrics = [sample_metric(ts_metric, rate) for rate in SAMPLE_RATES]"
   ]
  },
  {
   "cell_type": "markdown",
   "metadata": {},
   "source": [
    "### Aggregate RTTs for each flow"
   ]
  },
  {
   "cell_type": "code",
   "execution_count": null,
   "metadata": {
    "scrolled": false
   },
   "outputs": [],
   "source": [
    "# TODO: This assumes that the RTTs are normally distributed. They are, however, HEAVY-tailed. How to do stats?\n",
    "def aggregate_metric(metric: Metric) -> Metric:\n",
    "    return metric._replace(df=metric.df.groupby('flow_hash').agg({\n",
    "           'rtt': ['mean', 'min', 'std', 'count']\n",
    "    }))\n",
    "\n",
    "agg_timestamp_metric = aggregate_metric(timestamp_metric)\n",
    "agg_squarewave_metric = aggregate_metric(squarewave_metric)\n",
    "agg_sampled_metrics = [aggregate_metric(m) for m in sampled_metrics]"
   ]
  },
  {
   "cell_type": "code",
   "execution_count": null,
   "metadata": {},
   "outputs": [],
   "source": [
    "def relative_errors(values: pd.Series, ground_truth: pd.Series) -> pd.Series:\n",
    "    return (values - ground_truth) / ground_truth\n",
    "\n",
    "def ecdf(series: pd.Series) -> pd.Series:\n",
    "    series = series.sort_values()\n",
    "    cdf = np.linspace(0.,1.,len(series))\n",
    "    return pd.Series(cdf, index=series)\n",
    "\n",
    "Line = namedtuple('Line', ['style', 'color'])\n",
    "def plot_rel_error_ecdf(metrics: Iterable[Metric] = None, \n",
    "                        ground_truth: Metric = None, \n",
    "                        metric_to_series: Callable[[Metric], pd.Series] = None,\n",
    "                        title: str = '',\n",
    "                        lines: Iterable[Line] = None):\n",
    "    plt.figure()\n",
    "    lines = lines or [Line(style='solid', color='#1f77b4') for _ in metrics]\n",
    "    for metric, line in zip(metrics, lines):\n",
    "        errors = relative_errors(metric_to_series(metric), metric_to_series(ground_truth))\n",
    "        label = f'{metric.name}, {int(metric.bits_per_packet)} b/p'\n",
    "        plt.plot(ecdf(errors), label=label, linestyle=line.style, color=line.color)\n",
    "    plt.ylabel('ECDF')\n",
    "    plt.xlabel('Relative error')\n",
    "    plt.title(title)\n",
    "    plt.legend()\n",
    "    \n",
    "    \n",
    "plot_rel_error_ecdf(metrics=[agg_squarewave_metric, *agg_sampled_metrics],\n",
    "                    ground_truth=agg_timestamp_metric,\n",
    "                    metric_to_series=lambda m: m.df[('rtt', 'min')],\n",
    "                    title='Min RTT of Metric vs. Timestamp RTTs on Every Packet',\n",
    "                    lines=[Line('solid', '#d62728'), Line('--', '#1f77b4'), Line(':', '#1f77b4')]\n",
    "                   )"
   ]
  },
  {
   "cell_type": "markdown",
   "metadata": {},
   "source": [
    "### TODO\n",
    "\n",
    "- Compare min and avg\n",
    "- Absolute error in ms\n"
   ]
  }
 ],
 "metadata": {
  "kernelspec": {
   "display_name": "Python 3",
   "language": "python",
   "name": "python3"
  },
  "language_info": {
   "codemirror_mode": {
    "name": "ipython",
    "version": 3
   },
   "file_extension": ".py",
   "mimetype": "text/x-python",
   "name": "python",
   "nbconvert_exporter": "python",
   "pygments_lexer": "ipython3",
   "version": "3.6.4"
  }
 },
 "nbformat": 4,
 "nbformat_minor": 2
}
