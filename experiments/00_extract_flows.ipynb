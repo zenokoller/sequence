{
 "cells": [
  {
   "cell_type": "markdown",
   "metadata": {},
   "source": [
    "Demonstrates extraction of relevant flow data into hdf5 using `libtrace` and `pandas`\n",
    "\n",
    "##### Getting trace for testing\n",
    "1. Download a trace from [MAWI Traffic Archive](http://mawi.wide.ad.jp/mawi/) \n",
    "2. Trucate to a workable time duration (e.g. 1 minute) with [tracesplit](https://github.com/LibtraceTeam/libtrace/wiki/tracesplit): `tracesplit -i 60 -m 1 inputuri outputuri`"
   ]
  },
  {
   "cell_type": "code",
   "execution_count": 24,
   "metadata": {},
   "outputs": [],
   "source": [
    "TRACE_PATH = '/tmp/anon-v4.pcap'\n",
    "STORE_PATH = '/tmp/anon-v4.hdf5'"
   ]
  },
  {
   "cell_type": "code",
   "execution_count": 25,
   "metadata": {},
   "outputs": [],
   "source": [
    "import os\n",
    "import sys\n",
    "\n",
    "import pandas as pd\n",
    "%matplotlib inline\n",
    "import matplotlib.pyplot as plt\n",
    "import plt as libtrace\n",
    "\n",
    "from typing import Tuple\n",
    "\n",
    "from utils.managed_trace import managed_trace\n",
    "from utils.tcp_packet import read_tcp_packet, TCPPacket"
   ]
  },
  {
   "cell_type": "markdown",
   "metadata": {},
   "source": [
    "We read from the trace, filtering TCP packets, and store the relevant fields of the packets in a list of namedtuples."
   ]
  },
  {
   "cell_type": "code",
   "execution_count": 26,
   "metadata": {},
   "outputs": [],
   "source": [
    "filter_ = libtrace.filter('tcp')\n",
    "with managed_trace(TRACE_PATH) as trace:\n",
    "    trace.conf_filter(filter_)\n",
    "    tcp_packets = [read_tcp_packet(packet) for packet in trace]\n",
    "tcp_df = pd.DataFrame.from_records(tcp_packets, columns=TCPPacket._fields)"
   ]
  },
  {
   "cell_type": "markdown",
   "metadata": {},
   "source": [
    "Now we have a `dataframe` with the following columns:"
   ]
  },
  {
   "cell_type": "code",
   "execution_count": 27,
   "metadata": {
    "keep_output": true,
    "scrolled": true
   },
   "outputs": [
    {
     "data": {
      "text/plain": [
       "['timestamp',\n",
       " 'flow_hash',\n",
       " 'src_ip',\n",
       " 'dst_ip',\n",
       " 'src_port',\n",
       " 'dst_port',\n",
       " 'seq_nr',\n",
       " 'ack_nr',\n",
       " 'flags',\n",
       " 'ts_val',\n",
       " 'ts_ecr',\n",
       " 'payload_length']"
      ]
     },
     "execution_count": 27,
     "metadata": {},
     "output_type": "execute_result"
    }
   ],
   "source": [
    "list(tcp_df)"
   ]
  },
  {
   "cell_type": "markdown",
   "metadata": {},
   "source": [
    "We store the `src_ip:src_port`, `dst_ip:dst_port` in a separate map\n",
    "\n",
    "    flow_hash -> ((ip_a, src_a), (ip_b, src_b))\n",
    "    \n",
    "such that `ip_a < ip_b`. "
   ]
  },
  {
   "cell_type": "code",
   "execution_count": 28,
   "metadata": {},
   "outputs": [],
   "source": [
    "def sorted_tcp_tuple(packet) -> Tuple[Tuple[str, int], Tuple[str, int]]:\n",
    "    src, dst = (str(packet.src_ip), packet.src_port), (str(packet.dst_ip), packet.dst_port)\n",
    "    return (src, dst) if packet.src_ip < packet.dst_ip else (dst, src)\n",
    "\n",
    "flow_to_tcp_tuple = {p.flow_hash: sorted_tcp_tuple(p) for p in tcp_df.itertuples()}"
   ]
  },
  {
   "cell_type": "markdown",
   "metadata": {},
   "source": [
    "We remove these cols from the dataframe and store the direction of the packets as a boolean `src_ip < dst_ip` instead."
   ]
  },
  {
   "cell_type": "code",
   "execution_count": 29,
   "metadata": {},
   "outputs": [],
   "source": [
    "tcp_df['ip_direction_asc'] = (tcp_df.src_ip < tcp_df.dst_ip).astype(bool)\n",
    "del tcp_df['src_ip']\n",
    "del tcp_df['src_port']\n",
    "del tcp_df['dst_ip']\n",
    "del tcp_df['dst_port']"
   ]
  },
  {
   "cell_type": "code",
   "execution_count": 30,
   "metadata": {},
   "outputs": [],
   "source": [
    "with pd.HDFStore(STORE_PATH) as store:\n",
    "    store['tcp_df'] = tcp_df\n",
    "    store.get_storer('tcp_df').attrs.flow_to_tcp_tuple = flow_to_tcp_tuple"
   ]
  },
  {
   "cell_type": "markdown",
   "metadata": {},
   "source": [
    "## Stats"
   ]
  },
  {
   "cell_type": "code",
   "execution_count": 31,
   "metadata": {
    "keep_output": true,
    "scrolled": true
   },
   "outputs": [
    {
     "data": {
      "image/png": "[encoded data removed]",
      "text/plain": [
       "<matplotlib.figure.Figure at 0x10d6d6d68>"
      ]
     },
     "metadata": {},
     "output_type": "display_data"
    }
   ],
   "source": [
    "# Number of packets sent per flow\n",
    "packet_counts = tcp_df['flow_hash'].value_counts()\n",
    "ax = packet_counts.hist(bins=100)\n",
    "ax.set_xticks(range(0, packet_counts.max(), 5));"
   ]
  },
  {
   "cell_type": "code",
   "execution_count": 32,
   "metadata": {
    "keep_output": true
   },
   "outputs": [
    {
     "data": {
      "text/plain": [
       "count    13.000000\n",
       "mean     11.923077\n",
       "std      13.966994\n",
       "min       2.000000\n",
       "25%       2.000000\n",
       "50%       3.000000\n",
       "75%      17.000000\n",
       "max      43.000000\n",
       "Name: flow_hash, dtype: float64"
      ]
     },
     "execution_count": 32,
     "metadata": {},
     "output_type": "execute_result"
    }
   ],
   "source": [
    "# Average number of packets\n",
    "tcp_df['flow_hash'].value_counts().describe()"
   ]
  },
  {
   "cell_type": "code",
   "execution_count": null,
   "metadata": {},
   "outputs": [],
   "source": []
  }
 ],
 "metadata": {
  "kernelspec": {
   "display_name": "Python 3",
   "language": "python",
   "name": "python3"
  },
  "language_info": {
   "codemirror_mode": {
    "name": "ipython",
    "version": 3
   },
   "file_extension": ".py",
   "mimetype": "text/x-python",
   "name": "python",
   "nbconvert_exporter": "python",
   "pygments_lexer": "ipython3",
   "version": "3.6.4"
  }
 },
 "nbformat": 4,
 "nbformat_minor": 2
}
